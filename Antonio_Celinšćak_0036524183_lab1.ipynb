{
  "cells": [
    {
      "cell_type": "markdown",
      "metadata": {
        "id": "cXCCBBf1Ee6E"
      },
      "source": [
        "# Exercise 1: Model of a neuron and the learning process\n",
        "\n",
        "## 1.1 Model of a neuron\n",
        "\n",
        "Write a Python function, which calculates the output of a neuron. Assume a model of a neuron shown in Figure 1 with three inputs and a threshold. The threshold can be interpreted as an additional input with fixed input of $-1$ and weight $w_{10}$. The output of the function has to correspond to output of the neuron.\n",
        "\n",
        "![Model of a neuron](img/model.png)\n",
        "<center>Figure 1. Model of a neuron</center>\n",
        "\n",
        "Use the scalar product of input vector $[x_0 x_1 x_2 x_3]$ and weights $[x_0 x_1 x_2 x_3]$ in order to calculate the neuron activation. The function has to have an additional input, which is used to select di\u000berent nonlinear activation functions. The function should support the following nonlinear functions:\n",
        "\n",
        "1. Step function\n",
        "2. Piecewise linear function (ramp)\n",
        "3. Sigmoid function defined as $\\phi = \\frac{1}{1+\\exp (-av)}$, with $a=1$"
      ]
    },
    {
      "cell_type": "code",
      "execution_count": null,
      "metadata": {
        "collapsed": true,
        "id": "ju-MxY-8Ee6I"
      },
      "outputs": [],
      "source": [
        "import numpy as np\n",
        "\n",
        "def step_function(x):\n",
        "    if (x<0):\n",
        "        return 0\n",
        "    return 1\n",
        "\n",
        "def ramp_function(x):\n",
        "    return np.max([0, x])\n",
        "\n",
        "def sigmoid_function(x, a=1):\n",
        "    return 1.0/(1+np.exp(-a*x))\n",
        "\n",
        "def neuron(x, w, activation=lambda a:a):\n",
        "    return activation(np.dot(np.concatenate([[-1], x]), w))"
      ]
    },
    {
      "cell_type": "markdown",
      "metadata": {
        "collapsed": true,
        "id": "uwKVgxvmEe6J"
      },
      "source": [
        "**Tasks**\n",
        "\n",
        "1. Pick a random weight vector $\\mathbf{w}$. Write down the chosen weights and calculate the neuron response for following inputs (for each activation function):\n",
        "\n",
        "$x_1 = [0.5, 1, 0.7]^T$\n",
        "\n",
        "$x_2 = [0, 0.8, 0.2]^T$\n"
      ]
    },
    {
      "cell_type": "code",
      "execution_count": null,
      "metadata": {
        "collapsed": true,
        "id": "7PA2EC9oEe6J"
      },
      "outputs": [],
      "source": [
        "w=np.random.rand(4)\n",
        "\n",
        "print(w, end=\"\\n\\n\")\n",
        "\n",
        "x1=np.array([0.5, 1, 0.7])\n",
        "x2=np.array([0, 0.8, 0.2])\n",
        "\n",
        "print(neuron(x1, w, step_function))\n",
        "print(neuron(x2, w, step_function))\n",
        "print()\n",
        "\n",
        "print(neuron(x1, w, ramp_function))\n",
        "print(neuron(x2, w, ramp_function))\n",
        "print()\n",
        "\n",
        "print(neuron(x1, w, sigmoid_function))\n",
        "print(neuron(x2, w, sigmoid_function))"
      ]
    },
    {
      "cell_type": "markdown",
      "metadata": {
        "id": "_rc79o9QEe6K"
      },
      "source": [
        "## 1.2 Three neuron network\n",
        "\n",
        "Write a function for a three neuron network (Figure 2) using the function developed in section 1.1.. Assume that neurons use the sigmoid transfer function, where $a=1$ and assume the weights are given as follows:\n",
        "\n",
        "$w_1=[1, 0.5, 1, -0.4]$\n",
        "\n",
        "$w_2=[0.5, 0.6, -1.5, -0.7]$\n",
        "\n",
        "$w_3=[-0.5, -1.5, 0.6]$\n",
        "\n",
        "*Remark*: The first element of the weight vector is the threshold of a neuron and is shown as $w_{i0}$ in Figure 2.\n",
        "\n",
        "![Three neuron network](img/three.png)\n",
        "<center>Figure 2. Three neuron network</center>\n",
        "\n"
      ]
    },
    {
      "cell_type": "code",
      "execution_count": null,
      "metadata": {
        "collapsed": true,
        "id": "YwaaKDxWEe6K"
      },
      "outputs": [],
      "source": [
        "def three_neuron_network(x):\n",
        "    #w1=np.array([1, 0.5, 1, -0.4])\n",
        "    #w2=np.array([0.5, 0.6, -1.5, -0.7])\n",
        "    #w3=np.array([-0.5, -1.5, 0.6])\n",
        "\n",
        "    #w1=np.array([1, 0.7, 1, -0.4])\n",
        "    #w2=np.array([0.5, 0.4, -1.5, -0.7])\n",
        "    #w3=np.array([-0.5, -1.2, 0.6])\n",
        "\n",
        "    w1=np.array([0.5, 0.7, 1.2, -0.4])\n",
        "    w2=np.array([1, -0.4, -1.5, -0.7])\n",
        "    w3=np.array([0.5, -1.0, 0.6])\n",
        "    \n",
        "    neuron_one=neuron(x, w1, sigmoid_function)\n",
        "    neuron_two=neuron(x, w2, sigmoid_function)\n",
        "    \n",
        "    neuron_three=neuron(np.concatenate([[neuron_one], [neuron_two]]), w3, sigmoid_function)\n",
        "    \n",
        "    return neuron_three    "
      ]
    },
    {
      "cell_type": "markdown",
      "metadata": {
        "id": "83fKiX-lEe6L"
      },
      "source": [
        "**Tasks**\n",
        "\n",
        "1. What is the output of the network for input given as $x=[0.3, 0.7, 0.9]^T$?\n",
        "2. Does the output of the network depend on neuron weights?"
      ]
    },
    {
      "cell_type": "code",
      "execution_count": null,
      "metadata": {
        "collapsed": true,
        "id": "ye4mz6kHEe6L"
      },
      "outputs": [],
      "source": [
        "x=np.array([0.3, 0.7, 0.9])\n",
        "print(three_neuron_network(x))"
      ]
    },
    {
      "cell_type": "markdown",
      "source": [
        "Sa težinama:\n",
        "w1=np.array([1, 0.7, 1, -0.4])\n",
        "\n",
        "w2=np.array([0.5, 0.4, -1.5, -0.7])\n",
        "\n",
        "w3=np.array([-0.5, -1.2, 0.6])\n",
        "\n",
        "neuron daje rezultat:0.5251274589747457\n",
        "\n",
        "Sa težinama:\n",
        "w1=np.array([1, 0.5, 1, -0.4])\n",
        "\n",
        "w2=np.array([0.5, 0.6, -1.5, -0.7])\n",
        "\n",
        "w3=np.array([-0.5, -1.5, 0.6])\n",
        "\n",
        "neuron daje rezultat:0.5021828523608841\n",
        "\n",
        "Sa težinama:\n",
        "w1=np.array([0.5, 0.7, 1.2, -0.4])\n",
        "\n",
        "w2=np.array([1, -0.4, -1.5, -0.7])\n",
        "\n",
        "w3=np.array([0.5, -1.0, 0.6])\n",
        "\n",
        "neuron daje rezultat:0.26640036539215245\n",
        "\n",
        "Ovi primjeri pokazuju da rezultat neurona ovisi o težinama što je i logično jer se težine koriste pri računanju i utječu na ulazne brojeve. "
      ],
      "metadata": {
        "id": "tnyEIieTIXus"
      }
    },
    {
      "cell_type": "markdown",
      "metadata": {
        "id": "hH6VvKpJEe6M"
      },
      "source": [
        "## 1.3 Delta rule\n",
        "\n",
        "The goal of this experiment is to better understand the learning process. In this experiment we will implement a logical AND function using one neuron with two inputs and a threshold (see Figure 3). We will use the sigmoid nonlinear activation function with $a=1$.\n",
        "\n",
        "For the learning phase, we have to define the following input output pairs $x_i$, $y_i$ for the logical AND function: for inputs $x_1=[-1, 0, 0]^T$, $x_2=[-1, 0, 1]^T$, and $x_3=[-1, 1, 0]^T$ the output $y$ should be equal to $0$; for input vector $x_4=[-1, 1, 1]^T$ the output value $y$ should be equal to $1$. The first component of all input vectors has value $-1$ and defines the neuron threshold visible as $w_{10}$ in the Figure. At the beginning we set the neuron weights to random values. We use the delta rule in order to update the weights:\n",
        "\n",
        "$$\\Delta w_{kj}=\\eta e_{k}(n)x_{j}(n)$$\n",
        "\n",
        "where\n",
        "\n",
        "$$e_{k}(n)=d_{k}(n)-y_{k}(n)$$\n",
        "\n",
        "where $d_{k}(n)$ is the expected neuron output and $y_{k}(n)$ is the obtained neuron output. This iterative procedure is repeated until the error is sufficiently small.\n",
        "\n",
        "![One neuron network](img/one.png)\n",
        "<center>Figure 3. One neuron network</center>\n",
        "\n",
        "**Tasks**\n",
        "\n",
        "1. Experiment with different starting weights and different learning rates. (In case of instabilities, perform the experiment using a small learning rate, for example $\\eta =0.05$). Show the error function ($y$-axis) and number of iterations ($x$-axis) for different learning rates.\n",
        "\n",
        "    - What is the best learning rate? How does the learning rate affect the neural network?\n",
        "    - How did you define the sufficiently small error used to terminate the algorithm?\n",
        "    - After how many iterations does the algorithm terminate?\n"
      ]
    },
    {
      "cell_type": "code",
      "execution_count": null,
      "metadata": {
        "collapsed": true,
        "id": "l1dlzu5vEe6M"
      },
      "outputs": [],
      "source": [
        "avg=0\n",
        "for i in range(1000):\n",
        "  x1=[-1, 0, 0]\n",
        "  x2=[-1, 0, 1]\n",
        "  x3=[-1, 1, 0]\n",
        "  x4=[-1, 1, 1]\n",
        "\n",
        "  y1=y2=y3=0\n",
        "  y4=1\n",
        "\n",
        "  X=np.array([x1, x2, x3, x4])\n",
        "  Y=np.array([y1, y2, y3, y4])\n",
        "\n",
        "  w=np.random.rand(3)\n",
        "\n",
        "  eta=0.05\n",
        "  error_threshold=0.07\n",
        "  errors=[];\n",
        "\n",
        "  while True:\n",
        "      mse=0\n",
        "      for x, y in zip(X, Y):\n",
        "          y_predicted=np.dot(x, w)\n",
        "          e=y-y_predicted\n",
        "          mse+=e*e\n",
        "          \n",
        "          dw=eta*e*x\n",
        "          w+=dw\n",
        "      mse/=X.shape[0]\n",
        "      \n",
        "      errors.append(mse)\n",
        "      if (mse<error_threshold):\n",
        "          break\n",
        "\n",
        "  #import matplotlib.pyplot as plt\n",
        "\n",
        "  avg+=len(errors)\n",
        "\n",
        "print(avg/1000)\n",
        "  #plt.plot(errors)\n",
        "  #plt.xlabel(\"Number of iterations\")\n",
        "  #plt.ylabel(\"Error\")\n",
        "  #plt.show()"
      ]
    },
    {
      "cell_type": "markdown",
      "source": [
        "Rezultati gornjeg zadatka: Gornji kod računa prosječan brojniteracija za neki η. \n",
        "Ovo su rezultati(u ponovnom pokretanju biti će drugačiji zbog nesumičnosti težina, ali ponavljanjem od 1000 pokušao sam smanjiti utjecaj varijance):\n",
        "η=0.05=46.626\n",
        "η=0.02=56.123\n",
        "η=0.01=100.118\n",
        "\n",
        "Ovo pokazuje da je potrebnom manje iteracija što je η veći. Po tome je 0.05 najbolji, sa večim η od toga program nije radio pa za njih nisam uspio testirati.\n",
        "\n",
        "Sličan test sam izveo i mjenanjem granice pogreške(e_t) uz stopu učenja η=0.05.\n",
        "Ovo su rezultati:\n",
        "e_t=0.9=9.405 \n",
        "e_t=0.8=15.089 \n",
        "e_t=0.75=21.737\n",
        "e_t=0.7=45.303\n",
        "\n",
        "Sa manjim granicam pogreče i pri jednoj iteraciji program se dugo vrtio i nisam uspio dobiti rezultat. Pomakom granice sa 0.75 na 0.07 poduplao se broj iteracija, pa možemo pretpostaviti da daljnim spuštanjem granice pogreške broj iteracija raste eksponencijalno.\n",
        "\n",
        "\n",
        "Algoritam se završava nakon različitih brojeva iteracija kao što je pokazano gore, a broj ovisi o η i e_t.\n"
      ],
      "metadata": {
        "id": "xihvVK8I4lO_"
      }
    }
  ],
  "metadata": {
    "kernelspec": {
      "display_name": "Python 3",
      "language": "python",
      "name": "python3"
    },
    "language_info": {
      "codemirror_mode": {
        "name": "ipython",
        "version": 3
      },
      "file_extension": ".py",
      "mimetype": "text/x-python",
      "name": "python",
      "nbconvert_exporter": "python",
      "pygments_lexer": "ipython3",
      "version": "3.6.1"
    },
    "colab": {
      "provenance": [],
      "collapsed_sections": []
    }
  },
  "nbformat": 4,
  "nbformat_minor": 0
}