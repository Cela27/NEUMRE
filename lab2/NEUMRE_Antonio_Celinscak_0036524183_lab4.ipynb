{
  "cells": [
    {
      "cell_type": "markdown",
      "metadata": {
        "id": "AjOI4eywzj5E"
      },
      "source": [
        "# Exercise 4: LMS algorithm for stock price prediction\n",
        "\n",
        "## 4.1 Introduction\n",
        "\n",
        "In this exercise the *trainlms* function given below will be used.\n",
        "\n",
        "**Tasks**\n",
        "\n",
        "1. What does the function *trainlms* do?"
      ]
    },
    {
      "cell_type": "code",
      "execution_count": null,
      "metadata": {
        "collapsed": true,
        "id": "gjNeQIPAzj5G"
      },
      "outputs": [],
      "source": [
        "import numpy as np\n",
        "\n",
        "def predict(W, A):\n",
        "    return W@np.vstack([-np.ones((1, A.shape[1])), A])\n",
        "\n",
        "def trainlms(ni, x, d, W, max_epoch):\n",
        "    w=W.copy()\n",
        "    \n",
        "    n=0\n",
        "    errors=[]\n",
        "    while (n<max_epoch):\n",
        "        n+=1\n",
        "        y=predict(w, x)\n",
        "        e=d-y\n",
        "        w+=ni*e@np.vstack([-np.ones((1, x.shape[1])), x]).T\n",
        "        error=np.sum(np.square(e))\n",
        "        errors.append(error)\n",
        "        if (error<0.02):\n",
        "            break\n",
        "    return w, errors"
      ]
    },
    {
      "cell_type": "markdown",
      "metadata": {
        "id": "FyrPtY34zj5G"
      },
      "source": [
        "## 4.2 Stock price movement\n",
        "\n",
        "In this experiment we will use the LMS algorithm in order to predict the stock price for a given stock. Load the data from file *stock.txt* into variable *data*. Numbers (elements of vector *data*) show the movement of average daily price of the given share in time. Plot the variable *data* using the following commands:"
      ]
    },
    {
      "cell_type": "code",
      "execution_count": null,
      "metadata": {
        "id": "hwu-Hdx8zj5H"
      },
      "outputs": [],
      "source": [
        "data=np.loadtxt(\"stock.txt\", delimiter=\",\")\n",
        "\n",
        "import matplotlib.pyplot as plt\n",
        "plt.plot(range(1, data.shape[0]+1), data)\n",
        "plt.show()"
      ]
    },
    {
      "cell_type": "markdown",
      "metadata": {
        "id": "aKciJLTkzj5H"
      },
      "source": [
        "The goal of this exercise is to use several (let us say $N$) previous share prices in order to predict the share price for today. This is useful because we can buy or sell the price before its price rises or falls and in that way increase our profit or lower our loss. The first step is to find the input-output pairs, which will be used on order to train our network. The size of this set will be defined using variable $i$. Our inputs will be vectors $\\mathbf{a}_i$, which we put in matrix $\\mathbf{A}$. Outputs are scalar values, which we put in vector $y$.\n",
        "\n",
        "**Tasks**\n",
        "\n",
        "1. Write the function *memory*, which for given day in the year (index of the variable *data*) constructs a column vector $\\mathbf{a}$ whose elements represent the prices for last *N* days but without the price for today.\n",
        "2. Using the function *memory *write a function *memorize*, which for given inputs (*data*, *day*, *N*, *i*) constructs the matrix $\\mathbf{A}$ in which each column vector represents the $\\mathbf{a}_i$ for the previous day. So, matrix $\\mathbf{A}$ memorizes $i$ memories which we will use in order to train our network."
      ]
    },
    {
      "cell_type": "code",
      "execution_count": null,
      "metadata": {
        "id": "BttWxGYNzj5H"
      },
      "outputs": [],
      "source": [
        "def memory(data,index_of_day, N):\n",
        "  a = [];\n",
        "  if (index_of_day-N)>0:\n",
        "    for i in range(1, N+1):\n",
        "      a.append(data[index_of_day-i]);\n",
        " \n",
        "  a.reverse()\n",
        "  return a\n",
        "\n",
        "def memorize(data, index_of_day, N, i):\n",
        "  A = [];\n",
        "  for j in range(0, i):\n",
        "    a=memory(data, index_of_day-j, N)\n",
        "    A.append(a)\n",
        "  return np.array(A).T\n",
        "\n",
        "\n"
      ]
    },
    {
      "cell_type": "markdown",
      "metadata": {
        "id": "KzLpa2wQzj5I"
      },
      "source": [
        "Construct the matrix $\\mathbf{A}$ using the command:"
      ]
    },
    {
      "cell_type": "code",
      "execution_count": null,
      "metadata": {
        "id": "NDqb3mCBzj5I"
      },
      "outputs": [],
      "source": [
        "day=151\n",
        "N=70\n",
        "i=50\n",
        "A=memorize(data, day, N, i)"
      ]
    },
    {
      "cell_type": "markdown",
      "metadata": {
        "id": "ZgJ8EZfYzj5I"
      },
      "source": [
        "The output vector is constructed using the command:"
      ]
    },
    {
      "cell_type": "code",
      "execution_count": null,
      "metadata": {
        "id": "i5Kjf9NZzj5I"
      },
      "outputs": [],
      "source": [
        "y=np.array([data[day-i+1:day+1]])\n",
        "print(y)"
      ]
    },
    {
      "cell_type": "markdown",
      "metadata": {
        "id": "rAJD0bFBzj5I"
      },
      "source": [
        "We initialize the perceptron as follows:"
      ]
    },
    {
      "cell_type": "code",
      "execution_count": null,
      "metadata": {
        "collapsed": true,
        "id": "cFLAFn4qzj5I"
      },
      "outputs": [],
      "source": [
        "def initp(data, labels):\n",
        "    return -0.5+np.random.rand(labels.shape[0], data.shape[0]+1)\n",
        "\n",
        "W=initp(A, y)"
      ]
    },
    {
      "cell_type": "markdown",
      "metadata": {
        "id": "1COVW7qizj5J"
      },
      "source": [
        "We train the perceptron using the command:"
      ]
    },
    {
      "cell_type": "code",
      "execution_count": null,
      "metadata": {
        "id": "_9G3aNihzj5J"
      },
      "outputs": [],
      "source": [
        "ni=1e-8\n",
        "max_num_iter=10000\n",
        "print(predict(W, A))\n",
        "W1, errors=trainlms(ni, A, y, W, max_num_iter)"
      ]
    },
    {
      "cell_type": "markdown",
      "metadata": {
        "id": "gFsiahtMzj5J"
      },
      "source": [
        "Weights of the network are memorized in the matrix $\\mathbf{W}_1$. Variable *ni* should be experimentally found. Train the network for different values of *i*, *N*, *max_num_iter*. We can visualize the output of the network on the training data using the following command:"
      ]
    },
    {
      "cell_type": "code",
      "source": [
        "day=151\n",
        "N=50\n",
        "i=50\n",
        "A=memorize(data, day, N, i)\n",
        "y=np.array([data[day-i+1:day+1]])\n",
        "W=initp(A, y)\n",
        "\n",
        "j=1\n",
        "plt.figure(figsize=(25, 8.5))\n",
        "for ni in [0.000000001, 0.00000001, 0.000000015,0.000000016]:\n",
        "  W1, errors=trainlms(ni, A, y, W, max_num_iter)\n",
        "  p=predict(W1, A)\n",
        "  plt.subplot(1, 4, j)\n",
        "  plt.plot(range(1, y[0].shape[0]+1), y[0])\n",
        "  plt.plot(range(1, p[0].shape[0]+1), p[0], c=\"red\")\n",
        "  plt.title(\"ni=\"+str(ni))\n",
        "  j+=1  \n",
        "\n",
        "j=1\n",
        "ni=1e-8\n",
        "plt.figure(figsize=(25, 8.5))\n",
        "for max_num_iter in [1000, 10000,100000, 500000]:  \n",
        "  W1, errors=trainlms(ni, A, y, W, max_num_iter)\n",
        "  p=predict(W1, A)\n",
        "  plt.subplot(1, 4, j)\n",
        "  plt.plot(range(1, y[0].shape[0]+1), y[0])\n",
        "  plt.plot(range(1, p[0].shape[0]+1), p[0], c=\"red\")\n",
        "  plt.title(\"Max iter=\"+str(max_num_iter))\n",
        "  j+=1\n",
        "\n",
        "\n",
        "j=1\n",
        "ni=1e-8\n",
        "max_num_iter=10000\n",
        "plt.figure(figsize=(25, 8.5))\n",
        "for N in [10, 50, 70, 100]:\n",
        "  A=memorize(data, day, N, i)\n",
        "  y=np.array([data[day-i+1:day+1]])\n",
        "  W=initp(A, y)\n",
        "  W1, errors=trainlms(ni, A, y, W, max_num_iter)\n",
        "  p=predict(W1, A)\n",
        "  plt.subplot(1, 4, j)\n",
        "  plt.plot(range(1, y[0].shape[0]+1), y[0])\n",
        "  plt.plot(range(1, p[0].shape[0]+1), p[0], c=\"red\")\n",
        "  plt.title(\"N=\"+str(N))\n",
        "  j+=1  \n",
        " "
      ],
      "metadata": {
        "id": "286FMg2rcUyq"
      },
      "execution_count": null,
      "outputs": []
    },
    {
      "cell_type": "markdown",
      "metadata": {
        "id": "XxpGhsQJzj5J"
      },
      "source": [
        "Here, the blue color shows the predicted values and the red color shows the real outputs.\n",
        "\n",
        "**Tasks**\n",
        "\n",
        "1. Memorize different weight matrices ($\\mathbf{W}_1$, $\\mathbf{W}_2$...) with different combinations of following parameters *i*=30, 50 or 100; *N*=20, 50 or 80; *max_num_iter*=10000, 50000 or 500000. (Choose 6 different combinations.) For selected parameter combinations show the obtained predictions with real values. Comment the obtained results."
      ]
    },
    {
      "cell_type": "code",
      "execution_count": null,
      "metadata": {
        "collapsed": true,
        "id": "KjhWAM8Xzj5J"
      },
      "outputs": [],
      "source": [
        "day=151\n",
        "N_min=20\n",
        "N_max=50\n",
        "max_num_iter_min=10000\n",
        "max_num_iter_max=500000\n",
        "\n",
        "j=1\n",
        "ni=1e-8\n",
        "max_num_iter=10000\n",
        "\n",
        "\n",
        "for i in [30, 50, 100]:\n",
        "  A=memorize(data, day, N_min, i)\n",
        "  y=np.array([data[day-i+1:day+1]])\n",
        "  W=initp(A, y)\n",
        "\n",
        "  W_min, errors=trainlms(ni, A, y, W, max_num_iter_min)\n",
        "  p=predict(W_min, A)\n",
        "\n",
        "  plt.figure(figsize=(18, 6))\n",
        "  plt.subplot(1, 2, 1)\n",
        "  plt.plot(range(1, y[0].shape[0]+1), y[0])\n",
        "  plt.plot(range(1, p[0].shape[0]+1), p[0], c=\"red\")\n",
        "  plt.title(\"N=\"+str(N_min)+\", Max_iter=\"+str(max_num_iter_min)+\", i=\"+str(i))\n",
        "\n",
        "  A=memorize(data, day, N_max, i)\n",
        "  y=np.array([data[day-i+1:day+1]])\n",
        "  W=initp(A, y)\n",
        "\n",
        "  W_max, errors=trainlms(ni, A, y, W, max_num_iter_max)\n",
        "  p=predict(W_max, A)\n",
        "\n",
        "  plt.subplot(1, 2, 2)\n",
        "  plt.plot(range(1, y[0].shape[0]+1), y[0])\n",
        "  plt.plot(range(1, p[0].shape[0]+1), p[0], c=\"red\")\n",
        "  plt.title(\"N=\"+str(N_max)+\", Max_iter=\"+str(max_num_iter_max)+\", i=\"+str(i))"
      ]
    },
    {
      "cell_type": "markdown",
      "metadata": {
        "id": "CLNgwJr9zj5J"
      },
      "source": [
        "If we do not use any intelligence for stock price prediction and we assume the price will be (almost) the same tomorrow, the error we make is:"
      ]
    },
    {
      "cell_type": "code",
      "execution_count": null,
      "metadata": {
        "id": "8x9V5sHjzj5K"
      },
      "outputs": [],
      "source": [
        "a=data[day:day+1]          # price today - we assume the same price tomorrow\n",
        "y=data[day+1:day+2]        # the real price tomorrow\n",
        "err_oo=np.sum(np.abs(y-a)) # error"
      ]
    },
    {
      "cell_type": "markdown",
      "metadata": {
        "id": "ll-YXhGZzj5K"
      },
      "source": [
        "If we use the network trained on previous days to predict the price for tomorrow, the error is as follows:"
      ]
    },
    {
      "cell_type": "code",
      "execution_count": null,
      "metadata": {
        "id": "ef3BrjG6zj5K"
      },
      "outputs": [],
      "source": [
        "p=predict(W1, memorize(data, day+1, N, 1))\n",
        "err_nn=np.sum(np.abs(y-p))"
      ]
    },
    {
      "cell_type": "markdown",
      "metadata": {
        "id": "Im1Sbmuczj5K"
      },
      "source": [
        "If we trade each day with the given stock, our error can be easily measured. Our potential profit can be calculated as follows:"
      ]
    },
    {
      "cell_type": "code",
      "execution_count": null,
      "metadata": {
        "id": "H621ocMTzj5K"
      },
      "outputs": [],
      "source": [
        "profit=err_oo-err_nn\n",
        "print(profit)"
      ]
    },
    {
      "cell_type": "markdown",
      "metadata": {
        "id": "fBbM61N1zj5K"
      },
      "source": [
        "To predict the price of the day after tomorrow, we could use the same network or we could train the network from scratch by also using the data of the day before the day after tomorrow i.e. by using the data of tomorrow. Which way would be better?\n",
        "\n",
        "**Tasks**\n",
        "\n",
        "1. Create a table in which you will show the obtained profit levels depending on the parameters used (*i*, *N*, and *max_num_iter*). For of these parameter triplets the profit should be the sum of the profit for every possible *day* for which training data defined by *i* and *N* exists."
      ]
    },
    {
      "cell_type": "code",
      "execution_count": null,
      "metadata": {
        "collapsed": true,
        "id": "AfxCklpxzj5K"
      },
      "outputs": [],
      "source": [
        "a=data[day:day+4]   \n",
        "print(a)       # price today - we assume the same price tomorrow\n",
        "y=data[day+1:day+5]    \n",
        "print(y)    # the real price tomorrow\n",
        "err_oo=np.sum(np.abs(y-a)) # error\n",
        "\n",
        "p=predict(W1, memorize(data, day+1, N, 4))\n",
        "print(p)\n",
        "err_nn=np.sum(np.abs(y-p))\n",
        "\n",
        "profit=err_oo-err_nn\n",
        "print(profit)"
      ]
    },
    {
      "cell_type": "code",
      "source": [
        "day=151\n",
        "N_min=20\n",
        "N_max=50\n",
        "max_num_iter_min=10000\n",
        "max_num_iter_max=500000\n",
        "\n",
        "j=1\n",
        "ni=1e-8\n",
        "max_num_iter=10000\n",
        "\n",
        "profits=[]\n",
        "\n",
        "for i in [30, 50, 100]:\n",
        "  A=memorize(data, day, N_min, i)\n",
        "  a=np.array([data[day-i:day]])\n",
        "  y=np.array([data[day-i+1:day+1]])\n",
        "  W=initp(A, y)\n",
        "  W_min, errors=trainlms(ni, A, y, W, max_num_iter_min)\n",
        "  p=predict(W_min, A)\n",
        "\n",
        "  err_oo=np.sum(np.abs(y-a)) \n",
        "  err_nn=np.sum(np.abs(y-p))\n",
        "\n",
        "  profit=err_oo-err_nn\n",
        "  profits.append(profit)\n",
        "\n",
        "\n",
        "  A=memorize(data, day, N_max, i)\n",
        "  a=np.array([data[day-i:day]])\n",
        "  y=np.array([data[day-i+1:day+1]])\n",
        "  W=initp(A, y)\n",
        "\n",
        "  W_max, errors=trainlms(ni, A, y, W, max_num_iter_max)\n",
        "  p=predict(W_max, A)\n",
        "\n",
        "  err_oo=np.sum(np.abs(y-a)) \n",
        "  err_nn=np.sum(np.abs(y-p))\n",
        "\n",
        "  profit=err_oo-err_nn\n",
        "  profits.append(profit)\n",
        "\n",
        "print(\"N=20, i=30, max_iter=10000, profit=\"+ str(profits[0]))\n",
        "print(\"N=50, i=30, max_iter=500000, profit=\"+ str(profits[1]))\n",
        "print(\"N=20, i=50, max_iter=10000, profit=\"+ str(profits[2]))\n",
        "print(\"N=50, i=50, max_iter=500000, profit=\"+ str(profits[3]))\n",
        "print(\"N=50, i=100, max_iter=10000, profit=\"+ str(profits[4]))\n",
        "print(\"N=20, i=100, max_iter=500000, profit=\"+ str(profits[5]))"
      ],
      "metadata": {
        "id": "4pFPpkk_kQEE"
      },
      "execution_count": null,
      "outputs": []
    }
  ],
  "metadata": {
    "kernelspec": {
      "display_name": "Python 3",
      "language": "python",
      "name": "python3"
    },
    "language_info": {
      "codemirror_mode": {
        "name": "ipython",
        "version": 3
      },
      "file_extension": ".py",
      "mimetype": "text/x-python",
      "name": "python",
      "nbconvert_exporter": "python",
      "pygments_lexer": "ipython3",
      "version": "3.6.1"
    },
    "colab": {
      "provenance": [],
      "collapsed_sections": []
    }
  },
  "nbformat": 4,
  "nbformat_minor": 0
}